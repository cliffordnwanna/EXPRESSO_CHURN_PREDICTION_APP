{
  "nbformat": 4,
  "nbformat_minor": 0,
  "metadata": {
    "colab": {
      "provenance": []
    },
    "kernelspec": {
      "name": "python3",
      "display_name": "Python 3"
    },
    "language_info": {
      "name": "python"
    }
  },
  "cells": [
    {
      "cell_type": "code",
      "source": [
        "import numpy as np\n",
        "import pandas as pd\n",
        "from sklearn.model_selection import train_test_split\n",
        "from sklearn.preprocessing import LabelEncoder\n",
        "from sklearn.ensemble import RandomForestClassifier\n",
        "from sklearn.metrics import accuracy_score\n",
        "import pickle\n",
        "import gdown\n",
        "import os\n",
        "\n",
        "# Function to create directory if it does not exist\n",
        "def create_directory(directory):\n",
        "    if not os.path.exists(directory):\n",
        "        os.makedirs(directory)\n",
        "\n",
        "# Function to download dataset from Google Drive\n",
        "def download_dataset_from_gdrive(gdrive_url, output_path):\n",
        "    # Ensure the directory for the output file exists\n",
        "    create_directory(os.path.dirname(output_path))\n",
        "\n",
        "    if not os.path.exists(output_path):\n",
        "        print(\"Downloading dataset from Google Drive...\")\n",
        "        gdown.download(gdrive_url, output_path, quiet=False)\n",
        "        print(\"Download complete!\")\n",
        "    else:\n",
        "        print(\"Dataset already exists. Skipping download.\")\n",
        "\n",
        "# Google Drive URL (replace with your actual file ID)\n",
        "gdrive_url = \"https://drive.google.com/uc?id=FILE_ID\"\n",
        "dataset_path = \"data/Expresso_churn_dataset.csv\"\n",
        "\n",
        "# Download dataset\n",
        "download_dataset_from_gdrive(gdrive_url, dataset_path)\n",
        "\n",
        "# Load dataset\n",
        "df = pd.read_csv(dataset_path)\n",
        "\n",
        "# Data preprocessing\n",
        "def preprocess_data(df):\n",
        "    # Handle missing values, encode categorical columns, and handle outliers\n",
        "    df_filled = df.fillna(0)\n",
        "    categorical_columns = ['user_id', 'REGION', 'TENURE', 'MRG', 'TOP_PACK']\n",
        "\n",
        "    # Encode categorical features\n",
        "    label_encoder = LabelEncoder()\n",
        "    for col in categorical_columns:\n",
        "        df_filled[col] = df_filled[col].astype(str)\n",
        "        df_filled[col] = label_encoder.fit_transform(df_filled[col])\n",
        "\n",
        "    return df_filled\n",
        "\n",
        "# Train model\n",
        "def train_model():\n",
        "    df_cleaned = preprocess_data(df)\n",
        "    X = df_cleaned.drop('CHURN', axis=1)\n",
        "    y = df_cleaned['CHURN']\n",
        "\n",
        "    # Split dataset\n",
        "    X_train, X_test, y_train, y_test = train_test_split(X, y, test_size=0.2, random_state=42)\n",
        "\n",
        "    # Train classifier\n",
        "    clf = RandomForestClassifier()\n",
        "    clf.fit(X_train, y_train)\n",
        "\n",
        "    # Test accuracy\n",
        "    y_pred = clf.predict(X_test)\n",
        "    accuracy = accuracy_score(y_test, y_pred)\n",
        "    print(\"Model Accuracy:\", accuracy)\n",
        "\n",
        "    # Ensure models directory exists\n",
        "    create_directory(\"models\")\n",
        "\n",
        "    # Save model\n",
        "    with open(\"models/main_trained_model_1.sav\", 'wb') as f:\n",
        "        pickle.dump(clf, f)\n",
        "\n",
        "if __name__ == \"__main__\":\n",
        "    train_model()\n"
      ],
      "metadata": {
        "colab": {
          "base_uri": "https://localhost:8080/"
        },
        "id": "6Sg50jIhFppA",
        "outputId": "13567200-cddb-4747-8af4-a5f1804f33bf"
      },
      "execution_count": 4,
      "outputs": [
        {
          "output_type": "stream",
          "name": "stdout",
          "text": [
            "Dataset already exists. Skipping download.\n",
            "Model Accuracy: 0.8528632111603723\n"
          ]
        }
      ]
    }
  ]
}